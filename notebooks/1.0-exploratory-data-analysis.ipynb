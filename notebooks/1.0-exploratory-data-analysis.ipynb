{
 "cells": [
  {
   "cell_type": "markdown",
   "metadata": {},
   "source": [
    "## 1. Imports"
   ]
  },
  {
   "cell_type": "code",
   "execution_count": 2,
   "metadata": {},
   "outputs": [],
   "source": [
    "import pandas as pd \n",
    "import numpy as np \n",
    "import seaborn as sns \n",
    "import matplotlib.pyplot as plt\n",
    "\n",
    "pd.set_option('display.max_columns', None)"
   ]
  },
  {
   "cell_type": "markdown",
   "metadata": {},
   "source": [
    "## 2. Reading data"
   ]
  },
  {
   "cell_type": "code",
   "execution_count": 11,
   "metadata": {},
   "outputs": [
    {
     "name": "stdout",
     "output_type": "stream",
     "text": [
      "<class 'pandas.core.frame.DataFrame'>\n",
      "RangeIndex: 1086785 entries, 0 to 1086784\n",
      "Data columns (total 35 columns):\n",
      " #   Column                       Non-Null Count    Dtype  \n",
      "---  ------                       --------------    -----  \n",
      " 0   id                           1086785 non-null  object \n",
      " 1   enem_year                    1086785 non-null  int64  \n",
      " 2   age                          1086785 non-null  int64  \n",
      " 3   sex                          1086785 non-null  object \n",
      " 4   marital_status               1086785 non-null  int64  \n",
      " 5   color_race                   1086785 non-null  int64  \n",
      " 6   id_city_school               205335 non-null   float64\n",
      " 7   id_city_test                 1086785 non-null  int64  \n",
      " 8   high_school_status           1086785 non-null  int64  \n",
      " 9   year_completion_high_school  1086785 non-null  int64  \n",
      " 10  school_type                  1086785 non-null  int64  \n",
      " 11  presence_day_1               1086785 non-null  int64  \n",
      " 12  presence_day_2               1086785 non-null  int64  \n",
      " 13  nature_sciences_score        629643 non-null   float64\n",
      " 14  human_sciences_score         666325 non-null   float64\n",
      " 15  languages_codes_score        666325 non-null   float64\n",
      " 16  mathematics_score            629643 non-null   float64\n",
      " 17  spelling_score               666325 non-null   float64\n",
      " 18  understanding_score          666325 non-null   float64\n",
      " 19  structuring_score            666325 non-null   float64\n",
      " 20  argumentation_score          666325 non-null   float64\n",
      " 21  proposal_score               666325 non-null   float64\n",
      " 22  redaction_score              666325 non-null   float64\n",
      " 23  father_schooling             1077078 non-null  object \n",
      " 24  mother_schooling             1077078 non-null  object \n",
      " 25  father_profession_group      1077078 non-null  object \n",
      " 26  mother_profession_group      1077078 non-null  object \n",
      " 27  family_income                1077078 non-null  object \n",
      " 28  members_qty                  1077078 non-null  float64\n",
      " 29  bedrooms_qty                 1077078 non-null  object \n",
      " 30  cars_qty                     1077078 non-null  object \n",
      " 31  television_qty               1077078 non-null  object \n",
      " 32  phones_qty                   1077078 non-null  object \n",
      " 33  computers_qty                1077078 non-null  object \n",
      " 34  internet_access              1077078 non-null  object \n",
      "dtypes: float64(12), int64(10), object(13)\n",
      "memory usage: 290.2+ MB\n"
     ]
    }
   ],
   "source": [
    "data = pd.read_parquet('../data/raw/v0-enem-raw-20220530.parquet') \n",
    "data.info()"
   ]
  },
  {
   "cell_type": "code",
   "execution_count": null,
   "metadata": {},
   "outputs": [],
   "source": []
  }
 ],
 "metadata": {
  "interpreter": {
   "hash": "0d420b1c9fbc77b29ebd099b46170c5db652371ff108e2357e5cbc2640e2598b"
  },
  "kernelspec": {
   "display_name": "Python 3.9.13 ('env': venv)",
   "language": "python",
   "name": "python3"
  },
  "language_info": {
   "codemirror_mode": {
    "name": "ipython",
    "version": 3
   },
   "file_extension": ".py",
   "mimetype": "text/x-python",
   "name": "python",
   "nbconvert_exporter": "python",
   "pygments_lexer": "ipython3",
   "version": "3.9.13"
  },
  "orig_nbformat": 4
 },
 "nbformat": 4,
 "nbformat_minor": 2
}
